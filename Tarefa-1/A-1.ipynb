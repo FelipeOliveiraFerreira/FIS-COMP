{
 "cells": [
  {
   "cell_type": "code",
   "execution_count": 3,
   "metadata": {},
   "outputs": [],
   "source": [
    "import numpy as np\n",
    "import math"
   ]
  },
  {
   "cell_type": "code",
   "execution_count": 6,
   "metadata": {},
   "outputs": [
    {
     "name": "stdout",
     "output_type": "stream",
     "text": [
      "O fatorial de 3 é 6\n",
      "O fatorial de 1 é 1\n",
      "O fatorial de 4 é 24\n",
      "O fatorial de 0 é 1\n"
     ]
    }
   ],
   "source": [
    "def fatorial(n):\n",
    "    '''\n",
    "    Calcula e retorna o fatorial de n.\n",
    "\n",
    "    Argumentos\n",
    "    ----------\n",
    "    n : int\n",
    "        O número para o qual calcular o fatorial.\n",
    "    \n",
    "    Retorna\n",
    "    -------\n",
    "    int\n",
    "        O fatorial de n.\n",
    "    '''\n",
    "    # Verifica se n é negativo\n",
    "    if n < 0:\n",
    "        raise ValueError(\"Fatorial não definido para números negativos.\")\n",
    "    \n",
    "    # Inicializa o resultado como 1\n",
    "    resultado = 1\n",
    "    \n",
    "    # Calcula o fatorial usando um loop for\n",
    "    for i in range(2, n + 1):\n",
    "        resultado *= i\n",
    "    \n",
    "    # Retorna o resultado do fatorial\n",
    "    return resultado\n",
    "\n",
    "# Testes\n",
    "print(f'O fatorial de 3 é {fatorial(3)}')  # Saída: 6\n",
    "print('O fatorial de 1 é', fatorial(1))    # Saída: 1\n",
    "f10 = fatorial(4)\n",
    "print(f'O fatorial de 4 é {f10}')         # Saída: 3628800\n",
    "f0 = fatorial(0)\n",
    "print('O fatorial de 0 é', f0)             # Saída: 1\n"
   ]
  },
  {
   "cell_type": "code",
   "execution_count": 1,
   "metadata": {},
   "outputs": [
    {
     "name": "stdout",
     "output_type": "stream",
     "text": [
      "Sequência dos 5 primeiros números de Fibonacci: [0, 1, 1, 2, 3]\n",
      "Sequência dos 20 primeiros números de Fibonacci: [0, 1, 1, 2, 3, 5, 8, 13, 21, 34, 55, 89, 144, 233, 377, 610, 987, 1597, 2584, 4181]\n",
      "Sequência dos 30 primeiros números de Fibonacci: [0, 1, 1, 2, 3, 5, 8, 13, 21, 34, 55, 89, 144, 233, 377, 610, 987, 1597, 2584, 4181, 6765, 10946, 17711, 28657, 46368, 75025, 121393, 196418, 317811, 514229]\n"
     ]
    }
   ],
   "source": [
    "def fibonacci(n):\n",
    "    '''\n",
    "    Gera e retorna uma lista com os n primeiros números da sequência de Fibonacci.\n",
    "\n",
    "    Argumentos\n",
    "    ----------\n",
    "    n : int\n",
    "        O número de termos a serem gerados na sequência de Fibonacci.\n",
    "    \n",
    "    Retorna\n",
    "    -------\n",
    "    list\n",
    "        Uma lista contendo os n primeiros números da sequência de Fibonacci.\n",
    "    '''\n",
    "    if n <= 0:\n",
    "        return []  # Retorna uma lista vazia para n <= 0\n",
    "    elif n == 1:\n",
    "        return [0]  # Retorna apenas o primeiro termo para n == 1\n",
    "\n",
    "    # Inicializa os dois primeiros números da sequência\n",
    "    sequencia = [0, 1]\n",
    "    \n",
    "    # Gera os próximos termos usando um loop for\n",
    "    for _ in range(2, n):\n",
    "        proximo = sequencia[-1] + sequencia[-2]\n",
    "        sequencia.append(proximo)\n",
    "    \n",
    "    return sequencia\n",
    "\n",
    "# Testes\n",
    "print('Sequência dos 5 primeiros números de Fibonacci:', fibonacci(5))  \n",
    "# Saída: [0, 1, 1, 2, 3]\n",
    "\n",
    "f = fibonacci(20)\n",
    "print('Sequência dos 20 primeiros números de Fibonacci:', f)\n",
    "# Saída: [0, 1, 1, 2, 3, 5, 8, 13, 21, 34, 55, 89, 144, 233, 377, 610, 987, 1597, 2584, 4181]\n",
    "\n",
    "numero = 30\n",
    "f = fibonacci(numero)\n",
    "print(f'Sequência dos {numero} primeiros números de Fibonacci: {f}')\n",
    "# Saída: [0, 1, 1, 2, 3, ..., até o 30º termo]\n"
   ]
  },
  {
   "cell_type": "code",
   "execution_count": 8,
   "metadata": {},
   "outputs": [
    {
     "name": "stdout",
     "output_type": "stream",
     "text": [
      "A primeira raiz é: 1.0\n",
      "A segunda raiz é: -7.0\n",
      "Resultado: ('Não há raízes reais.', None)\n",
      "Erro: O coeficiente 'a' não pode ser zero em uma equação do segundo grau.\n"
     ]
    }
   ],
   "source": [
    "\n",
    "def bhaskara(a, b, c):\n",
    "    '''\n",
    "    Calcula e retorna as duas raízes de uma equação do segundo grau\n",
    "    da forma ax² + bx + c = 0 usando a fórmula de Bhaskara.\n",
    "\n",
    "    Argumentos\n",
    "    ----------\n",
    "    a : float\n",
    "        Coeficiente do termo quadrático (x²).\n",
    "    b : float\n",
    "        Coeficiente do termo linear (x).\n",
    "    c : float\n",
    "        Coeficiente constante.\n",
    "\n",
    "    Retorna\n",
    "    -------\n",
    "    tuple\n",
    "        Uma tupla contendo as duas raízes reais (x1, x2).\n",
    "        Se não houver raízes reais, retorna uma mensagem apropriada.\n",
    "    '''\n",
    "    if a == 0:\n",
    "        raise ValueError(\"O coeficiente 'a' não pode ser zero em uma equação do segundo grau.\")\n",
    "    \n",
    "    # Calcula o discriminante (delta)\n",
    "    delta = b**2 - 4*a*c\n",
    "    \n",
    "    # Verifica o valor do discriminante\n",
    "    if delta < 0:\n",
    "        return \"Não há raízes reais.\", None  # Sem raízes reais\n",
    "    \n",
    "    # Calcula as duas raízes\n",
    "    x1 = (-b + math.sqrt(delta)) / (2 * a)\n",
    "    x2 = (-b - math.sqrt(delta)) / (2 * a)\n",
    "    \n",
    "    return x1, x2\n",
    "\n",
    "# Testes\n",
    "x1, x2 = bhaskara(2, 12, -14)\n",
    "print('A primeira raiz é:', x1)  # Exemplo: 1.0\n",
    "print('A segunda raiz é:', x2)  # Exemplo: -7.0\n",
    "\n",
    "# Testando para delta < 0\n",
    "resultado = bhaskara(1, 1, 1)\n",
    "print('Resultado:', resultado)  # Não há raízes reais.\n",
    "\n",
    "# Testando para a = 0\n",
    "try:\n",
    "    bhaskara(0, 2, 3)\n",
    "except ValueError as e:\n",
    "    print('Erro:', e)  # Deve exibir uma mensagem de erro.\n"
   ]
  }
 ],
 "metadata": {
  "kernelspec": {
   "display_name": "base",
   "language": "python",
   "name": "python3"
  },
  "language_info": {
   "codemirror_mode": {
    "name": "ipython",
    "version": 3
   },
   "file_extension": ".py",
   "mimetype": "text/x-python",
   "name": "python",
   "nbconvert_exporter": "python",
   "pygments_lexer": "ipython3",
   "version": "3.7.6"
  }
 },
 "nbformat": 4,
 "nbformat_minor": 2
}
