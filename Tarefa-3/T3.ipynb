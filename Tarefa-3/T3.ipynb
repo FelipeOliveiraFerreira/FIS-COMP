{
 "cells": [
  {
   "cell_type": "code",
   "execution_count": 2,
   "metadata": {},
   "outputs": [],
   "source": [
    "import numpy as np \n",
    "import matplotlib.pyplot as plt"
   ]
  },
  {
   "cell_type": "code",
   "execution_count": 21,
   "metadata": {},
   "outputs": [
    {
     "name": "stdout",
     "output_type": "stream",
     "text": [
      "Valor estimado de π: 3.1398\n",
      "Valor real de π: 3.141592653589793\n",
      "Erro relativo: -0.000570619360133964\n"
     ]
    }
   ],
   "source": [
    "rng = np.random.default_rng() \n",
    "\n",
    "def monte_carlo_pi(numero_pontos):\n",
    "    \"\"\"\n",
    "    Estima o valor de π usando o método de Monte Carlo.\n",
    "\n",
    "    O método gera pontos aleatórios dentro do quadrado unitário [0,1] × [0,1] e conta quantos \n",
    "    desses pontos caem dentro do quarto de círculo de raio 1. A proporção de pontos dentro \n",
    "    do círculo é usada para estimar π.\n",
    "\n",
    "    Parâmetros:\n",
    "    numero_pontos :\n",
    "        O número de pontos aleatórios a serem gerados para a estimativa.\n",
    "    Retorna:\n",
    "        A estimativa do valor de π baseada nos pontos gerados.\n",
    "    \"\"\"\n",
    "    dentro_circulo = 0\n",
    "    for _ in range(numero_pontos):\n",
    "        x = np.random.uniform(0, 1)\n",
    "        y = np.random.uniform(0, 1)\n",
    "        if x**2 + y**2 <= 1:\n",
    "            dentro_circulo += 1\n",
    "    return 4 * dentro_circulo / numero_pontos\n",
    "\n",
    "numero_pontos = 100000\n",
    "pi = monte_carlo_pi(numero_pontos)\n",
    "erro = (pi - np.pi) / np.pi\n",
    "\n",
    "print(\"Valor estimado de π:\", pi)\n",
    "print(\"Valor real de π:\", np.pi)\n",
    "print(\"Erro relativo:\", erro)"
   ]
  },
  {
   "cell_type": "code",
   "execution_count": 12,
   "metadata": {},
   "outputs": [
    {
     "name": "stdout",
     "output_type": "stream",
     "text": [
      "24.2 ns ± 0.0547 ns per loop (mean ± std. dev. of 7 runs, 10000000 loops each)\n"
     ]
    }
   ],
   "source": [
    "%timeit monte_carlo_pi"
   ]
  }
 ],
 "metadata": {
  "kernelspec": {
   "display_name": "base",
   "language": "python",
   "name": "python3"
  },
  "language_info": {
   "codemirror_mode": {
    "name": "ipython",
    "version": 3
   },
   "file_extension": ".py",
   "mimetype": "text/x-python",
   "name": "python",
   "nbconvert_exporter": "python",
   "pygments_lexer": "ipython3",
   "version": "3.9.12"
  }
 },
 "nbformat": 4,
 "nbformat_minor": 2
}
