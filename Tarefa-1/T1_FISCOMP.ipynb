{
  "cells": [
    {
      "cell_type": "markdown",
      "metadata": {
        "id": "ymyIuqhHqPZm"
      },
      "source": [
        "# Fatorial\n",
        "\n"
      ]
    },
    {
      "cell_type": "code",
      "execution_count": 4,
      "metadata": {
        "colab": {
          "base_uri": "https://localhost:8080/"
        },
        "id": "f-NfxwZmp6MZ",
        "outputId": "5666f734-f5dc-413f-9cde-d0f5ef9958cd"
      },
      "outputs": [
        {
          "name": "stdout",
          "output_type": "stream",
          "text": [
            "O fatorial de 3 é 6\n",
            "O fatorial de 1 é 1\n",
            "O fatorial de 4 é 24\n",
            "O fatorial de 0 é 1\n"
          ]
        }
      ],
      "source": [
        "def fatorial(n):\n",
        "\n",
        "    # Verifica se n é negativo\n",
        "    if n < 0:\n",
        "        raise ValueError(\"Fatorial não definido para números negativos.\")\n",
        "\n",
        "    # primeiro termo\n",
        "    resultado = 1\n",
        "\n",
        "    # calcula o fatorial usando um loop for\n",
        "    for i in range(2, n + 1):\n",
        "        resultado *= i\n",
        "\n",
        "    # retorna o resultado do fatorial\n",
        "    return resultado\n",
        "\n",
        "# Testes\n",
        "print(f'O fatorial de 3 é {fatorial(3)}')\n",
        "print('O fatorial de 1 é', fatorial(1))\n",
        "f10 = fatorial(4)\n",
        "print(f'O fatorial de 4 é {f10}')\n",
        "f0 = fatorial(0)\n",
        "print('O fatorial de 0 é', f0)"
      ]
    },
    {
      "cell_type": "markdown",
      "metadata": {
        "id": "iVVcS3BwqWZX"
      },
      "source": [
        "# Fibonacci"
      ]
    },
    {
      "cell_type": "code",
      "execution_count": 3,
      "metadata": {
        "colab": {
          "base_uri": "https://localhost:8080/"
        },
        "id": "NoGHyuN9p-C9",
        "outputId": "e5fd4fd8-4588-4262-8dce-3e721bbb6f6a"
      },
      "outputs": [
        {
          "name": "stdout",
          "output_type": "stream",
          "text": [
            "Sequência dos 5 primeiros números de Fibonacci: [0, 1, 1, 2, 3]\n",
            "Sequência dos 20 primeiros números de Fibonacci: [0, 1, 1, 2, 3, 5, 8, 13, 21, 34, 55, 89, 144, 233, 377, 610, 987, 1597, 2584, 4181]\n",
            "Sequência dos 30 primeiros números de Fibonacci: [0, 1, 1, 2, 3, 5, 8, 13, 21, 34, 55, 89, 144, 233, 377, 610, 987, 1597, 2584, 4181, 6765, 10946, 17711, 28657, 46368, 75025, 121393, 196418, 317811, 514229]\n"
          ]
        }
      ],
      "source": [
        "def fibonacci(n):\n",
        "\n",
        "    if n <= 0:\n",
        "        return []  # Retorna uma lista vazia para n <= 0\n",
        "    elif n == 1:\n",
        "        return [0]  # Retorna apenas o primeiro termo para n == 1\n",
        "\n",
        "    # Inicializa os dois primeiros números da sequência\n",
        "    sequencia = [0, 1]\n",
        "\n",
        "    # Gera os próximos termos usando um loop for\n",
        "    for _ in range(2, n):\n",
        "        proximo = sequencia[-1] + sequencia[-2]\n",
        "        sequencia.append(proximo)\n",
        "\n",
        "    return sequencia\n",
        "\n",
        "# Testes\n",
        "print('Sequência dos 5 primeiros números de Fibonacci:', fibonacci(5))\n",
        "# saída os 5 termos\n",
        "\n",
        "f = fibonacci(20)\n",
        "print('Sequência dos 20 primeiros números de Fibonacci:', f)\n",
        "# saida os 20 termos\n",
        "\n",
        "numero = 30\n",
        "f = fibonacci(numero)\n",
        "print(f'Sequência dos {numero} primeiros números de Fibonacci: {f}')\n",
        "# saída 30 termos"
      ]
    },
    {
      "cell_type": "markdown",
      "metadata": {
        "id": "q0uY0iuIqsXP"
      },
      "source": [
        "# Bhaskara"
      ]
    },
    {
      "cell_type": "code",
      "execution_count": 1,
      "metadata": {
        "colab": {
          "base_uri": "https://localhost:8080/"
        },
        "id": "-aljXRx0qBO0",
        "outputId": "c210e02b-ccb4-465d-c2d5-eb8270e3935c"
      },
      "outputs": [
        {
          "name": "stdout",
          "output_type": "stream",
          "text": [
            "A primeira raiz é: 1.0\n",
            "A segunda raiz é: -7.0\n",
            "Resultado: ('Não há raízes reais.', None)\n",
            "Erro: O coeficiente 'a' não pode ser zero em uma equação do segundo grau.\n"
          ]
        }
      ],
      "source": [
        "import math\n",
        "def bhaskara(a, b, c):\n",
        "\n",
        "\n",
        "    if a == 0:\n",
        "        raise ValueError(\"O coeficiente 'a' não pode ser zero em uma equação do segundo grau.\")\n",
        "\n",
        "    # Calculando o valor de delta\n",
        "    delta = b**2 - 4*a*c\n",
        "\n",
        "    # Verifica o valor de delta\n",
        "    if delta < 0:\n",
        "        return \"Não há raízes reais.\", None\n",
        "\n",
        "    # Calcula as duas raízes\n",
        "    x1 = (-b + math.sqrt(delta)) / (2 * a)\n",
        "    x2 = (-b - math.sqrt(delta)) / (2 * a)\n",
        "\n",
        "    return x1, x2\n",
        "\n",
        "# Testes\n",
        "x1, x2 = bhaskara(2, 12, -14)\n",
        "print('A primeira raiz é:', x1)\n",
        "print('A segunda raiz é:', x2)\n",
        "\n",
        "# Testando para delta < 0\n",
        "resultado = bhaskara(1, 1, 1)\n",
        "print('Resultado:', resultado)\n",
        "\n",
        "# Testando para a = 0\n",
        "try:\n",
        "    bhaskara(0, 2, 3)\n",
        "except ValueError as e:\n",
        "    print('Erro:', e)"
      ]
    },
    {
      "cell_type": "markdown",
      "metadata": {
        "id": "-yrJGtxvA_k5"
      },
      "source": [
        "# Divisores"
      ]
    },
    {
      "cell_type": "code",
      "execution_count": 2,
      "metadata": {
        "colab": {
          "base_uri": "https://localhost:8080/"
        },
        "id": "lcMWGMXoBCtV",
        "outputId": "fbd2fffd-74fe-415b-d09f-21802046f37f"
      },
      "outputs": [
        {
          "name": "stdout",
          "output_type": "stream",
          "text": [
            "True\n",
            "False\n"
          ]
        }
      ],
      "source": [
        "def is_divisor(a, b):\n",
        "\n",
        "    if b == 0:\n",
        "        raise ValueError(\"O divisor não pode ser zero.\")\n",
        "    return a % b == 0\n",
        "\n",
        "# exemplos\n",
        "print(is_divisor(10, 2))\n",
        "print(is_divisor(10, 3))"
      ]
    }
  ],
  "metadata": {
    "colab": {
      "provenance": []
    },
    "kernelspec": {
      "display_name": "base",
      "language": "python",
      "name": "python3"
    },
    "language_info": {
      "codemirror_mode": {
        "name": "ipython",
        "version": 3
      },
      "file_extension": ".py",
      "mimetype": "text/x-python",
      "name": "python",
      "nbconvert_exporter": "python",
      "pygments_lexer": "ipython3",
      "version": "3.7.6"
    }
  },
  "nbformat": 4,
  "nbformat_minor": 0
}
